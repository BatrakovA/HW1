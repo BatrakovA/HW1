{
 "cells": [
  {
   "cell_type": "markdown",
   "metadata": {},
   "source": [
    "Задание 1"
   ]
  },
  {
   "cell_type": "code",
   "execution_count": 4,
   "metadata": {},
   "outputs": [
    {
     "name": "stdout",
     "output_type": "stream",
     "text": [
      "Введите фразу 1:Насколько проще было бы писать программы, если бы не заказчики\n",
      "Введите фразу 2:640Кб должно хватить для любых задач. Билл Гейтс (по легенде)\n",
      "Фраза 1 длиннее фразы 2\n"
     ]
    }
   ],
   "source": [
    "phrase_1=str(input('Введите фразу 1:'))\n",
    "phrase_2=str(input('Введите фразу 2:'))\n",
    "if len(phrase_1)>len(phrase_2): \n",
    "    print('Фраза 1 длиннее фразы 2')\n",
    "elif len(phrase_1)<len(phrase_2): \n",
    "    print('Фраза 2 длиннее фразы 1')\n",
    "else: print('Фразы равны')"
   ]
  },
  {
   "cell_type": "code",
   "execution_count": 6,
   "metadata": {},
   "outputs": [
    {
     "name": "stdout",
     "output_type": "stream",
     "text": [
      "Введите фразу 1:640Кб должно хватить для любых задач. Билл Гейтс (по легенде)\n",
      "Введите фразу 2:Насколько проще было бы писать программы, если бы не заказчики\n",
      "Фраза 2 длиннее фразы 1\n"
     ]
    }
   ],
   "source": [
    "phrase_1=str(input('Введите фразу 1:'))\n",
    "phrase_2=str(input('Введите фразу 2:'))\n",
    "if len(phrase_1)>len(phrase_2): \n",
    "    print('Фраза 1 длиннее фразы 2')\n",
    "elif len(phrase_1)<len(phrase_2): \n",
    "    print('Фраза 2 длиннее фразы 1')\n",
    "else: print('Фразы равны')"
   ]
  },
  {
   "cell_type": "code",
   "execution_count": 7,
   "metadata": {},
   "outputs": [
    {
     "name": "stdout",
     "output_type": "stream",
     "text": [
      "Введите фразу 1:Насколько проще было бы писать программы, если бы не заказчики\n",
      "Введите фразу 2:Насколько проще было бы писать программы, если бы не заказчики\n",
      "Фразы равны\n"
     ]
    }
   ],
   "source": [
    "phrase_1=str(input('Введите фразу 1:'))\n",
    "phrase_2=str(input('Введите фразу 2:'))\n",
    "if len(phrase_1)>len(phrase_2): \n",
    "    print('Фраза 1 длиннее фразы 2')\n",
    "elif len(phrase_1)<len(phrase_2): \n",
    "    print('Фраза 2 длиннее фразы 1')\n",
    "else: print('Фразы равны')"
   ]
  },
  {
   "cell_type": "markdown",
   "metadata": {},
   "source": [
    "Задание 2"
   ]
  },
  {
   "cell_type": "code",
   "execution_count": 21,
   "metadata": {},
   "outputs": [
    {
     "name": "stdout",
     "output_type": "stream",
     "text": [
      "Введите год:1986\n",
      "Обычный год\n"
     ]
    }
   ],
   "source": [
    "year=int(input('Введите год:'))\n",
    "if year % 4 == 0:\n",
    "    print('Високосный год')\n",
    "else: print('Обычный год')"
   ]
  },
  {
   "cell_type": "code",
   "execution_count": 23,
   "metadata": {},
   "outputs": [
    {
     "name": "stdout",
     "output_type": "stream",
     "text": [
      "Введите год:1996\n",
      "Високосный год\n"
     ]
    }
   ],
   "source": [
    "year=int(input('Введите год:'))\n",
    "if year % 4 == 0:\n",
    "    print('Високосный год')\n",
    "else: print('Обычный год')"
   ]
  },
  {
   "cell_type": "markdown",
   "metadata": {},
   "source": [
    "Задание 3 \n",
    "(мне было скучно искать соответствия ДР - знак, поэтому часть кода взята https://coderoad.ru/23969428/Зодиакальный-знак-python)"
   ]
  },
  {
   "cell_type": "code",
   "execution_count": 49,
   "metadata": {},
   "outputs": [
    {
     "name": "stdout",
     "output_type": "stream",
     "text": [
      "Введите месяц рождения:Июнь\n",
      "Введите дату рождения:29\n",
      "Ваш знак: \n",
      " Рак\n"
     ]
    }
   ],
   "source": [
    "Month=str(input('Введите месяц рождения:'))\n",
    "Day=int(input('Введите дату рождения:'))\n",
    "if ((Month=='Декабрь' and Day >= 22)or(Month=='Январь' and Day<= 19)):\n",
    "        zodiac_sign = (\"\\n Козерог\")\n",
    "elif ((Month=='Январь' and Day >= 20)or(Month=='Февраль' and Day<= 17)):\n",
    "        zodiac_sign = (\"\\n Водолей\")\n",
    "elif ((Month=='Февраль' and Day >= 18)or(Month=='Март' and Day<= 19)):\n",
    "        zodiac_sign = (\"\\n Рыбы\")\n",
    "elif ((Month=='Март' and Day >= 20)or(Month=='Апрель' and Day<= 19)):\n",
    "        zodiac_sign = (\"\\n Овен\")\n",
    "elif ((Month=='Апрель' and Day >= 20)or(Month=='Май' and Day<= 20)):\n",
    "        zodiac_sign = (\"\\n Телец\")\n",
    "elif ((Month=='Май' and Day >= 21)or(Month=='Июнь' and Day<= 20)):\n",
    "        zodiac_sign = (\"\\n Близнецы\")\n",
    "elif ((Month=='Июнь' and Day >= 21)or(Month=='Июль' and Day<= 22)):\n",
    "        zodiac_sign = (\"\\n Рак\")\n",
    "elif ((Month=='Июль' and Day >= 23)or(Month=='Август' and Day<= 22)): \n",
    "        zodiac_sign = (\"\\n Лев\")\n",
    "elif ((Month=='Август' and Day >= 23)or(Month=='Сентябрь' and Day<= 22)): \n",
    "        Signo_Zodiacal = (\"\\n Дева\")\n",
    "elif ((Month=='Сентябрь' and Day >= 23)or(Month=='Октябрь' and Day<= 22)):\n",
    "        zodiac_sign = (\"\\n Весы\")\n",
    "elif ((Month=='Октябрь' and Day >= 23)or(Month=='Ноябрь' and Day<= 21)): \n",
    "        zodiac_sign = (\"\\n Скорпион\")\n",
    "elif ((Month=='Ноябрь' and Day >= 22)or(Month=='Декабрь' and Day<= 21)):\n",
    "        zodiac_sign = (\"\\n Стрелец\")\n",
    "print('Ваш знак:', zodiac_sign)"
   ]
  },
  {
   "cell_type": "markdown",
   "metadata": {},
   "source": [
    "Задание 4"
   ]
  },
  {
   "cell_type": "code",
   "execution_count": 79,
   "metadata": {},
   "outputs": [
    {
     "name": "stdout",
     "output_type": "stream",
     "text": [
      "Упаковка для лыж\n"
     ]
    }
   ],
   "source": [
    "width = 10\n",
    "length = 205\n",
    "height = 5\n",
    "if width<15 and length<15 and height<15:\n",
    "    print ('Коробка №1')\n",
    "elif (width>15 or length>15 or height>15) and (width<50 and length<50 and height<50):\n",
    "    print ('Коробка №2')\n",
    "elif length>200:\n",
    "    print ('Упаковка для лыж')\n",
    "else:\n",
    "    print ('Стандартная коробка №3')"
   ]
  },
  {
   "cell_type": "markdown",
   "metadata": {},
   "source": [
    "Задание 5"
   ]
  },
  {
   "cell_type": "code",
   "execution_count": 64,
   "metadata": {},
   "outputs": [
    {
     "name": "stdout",
     "output_type": "stream",
     "text": [
      "Cчастливый билет\n"
     ]
    }
   ],
   "source": [
    "number=790349\n",
    "a=number//100000\n",
    "b=(number-a*100000)//10000\n",
    "c=(number-a*100000-b*10000)//1000\n",
    "d=(number-a*100000-b*10000-c*1000)//100\n",
    "e=(number-a*100000-b*10000-c*1000-d*100)//10\n",
    "f=number%10\n",
    "#print(a,b,c,d,e,f)\n",
    "if a+b+c==d+e+f:\n",
    "    print('Cчастливый билет')\n",
    "else:\n",
    "    print('Несчастливый билет')"
   ]
  },
  {
   "cell_type": "markdown",
   "metadata": {},
   "source": [
    "Задание 6"
   ]
  },
  {
   "cell_type": "code",
   "execution_count": 76,
   "metadata": {},
   "outputs": [
    {
     "name": "stdout",
     "output_type": "stream",
     "text": [
      "Введите тип фигуры:Треугольник\n",
      "Введите длину 1 стороны:10\n",
      "Введите длину 2 стороны:10\n",
      "Введите длину 3 стороны:14.142135623730950488016887242097\n",
      "Площадь треугольника: 50.0\n"
     ]
    }
   ],
   "source": [
    "import math\n",
    "tip_figury=str(input('Введите тип фигуры:'))\n",
    "if tip_figury=='Круг':\n",
    "    radius=int(input('Введите радиус:'))\n",
    "    area=math.pi*(radius**2)\n",
    "    print('Площадь круга:', area)\n",
    "elif tip_figury=='Треугольник':\n",
    "    a=int(input('Введите длину 1 стороны:'))\n",
    "    b=int(input('Введите длину 2 стороны:'))\n",
    "    c=float(input('Введите длину 3 стороны:'))\n",
    "    p=(a+b+c)/2       \n",
    "    area=math.sqrt((p*(p-a)*(p-b)*(p-c)))\n",
    "    print('Площадь треугольника:', area)\n",
    "elif tip_figury=='Прямоугольник':\n",
    "    a=int(input('Введите длину 1 стороны:'))\n",
    "    b=int(input('Введите длину 2 стороны:'))\n",
    "    area=a*b\n",
    "    print('Площадь прямоугольника:', area)\n",
    "else:\n",
    "    print('Ошибка')"
   ]
  }
 ],
 "metadata": {
  "kernelspec": {
   "display_name": "Python 3",
   "language": "python",
   "name": "python3"
  },
  "language_info": {
   "codemirror_mode": {
    "name": "ipython",
    "version": 3
   },
   "file_extension": ".py",
   "mimetype": "text/x-python",
   "name": "python",
   "nbconvert_exporter": "python",
   "pygments_lexer": "ipython3",
   "version": "3.8.5"
  }
 },
 "nbformat": 4,
 "nbformat_minor": 4
}
